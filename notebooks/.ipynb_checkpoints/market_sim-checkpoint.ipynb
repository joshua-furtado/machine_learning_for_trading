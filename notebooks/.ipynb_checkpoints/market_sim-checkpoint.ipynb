{
 "cells": [
  {
   "cell_type": "code",
   "execution_count": 2,
   "id": "czech-ordering",
   "metadata": {},
   "outputs": [],
   "source": [
    "import pandas as pd\n",
    "import numpy as np"
   ]
  },
  {
   "cell_type": "code",
   "execution_count": 30,
   "id": "daily-large",
   "metadata": {},
   "outputs": [],
   "source": [
    "orders_file = \"../orders/orders-01.csv\"\n",
    "start_val = 1000000\n",
    "commission = 9.95\n",
    "impact = 0.005"
   ]
  },
  {
   "cell_type": "code",
   "execution_count": 31,
   "id": "diagnostic-utilization",
   "metadata": {},
   "outputs": [],
   "source": [
    "# read in order book from CSV file\n",
    "orders_record = pd.read_csv(\n",
    "    orders_file, index_col=\"Date\", parse_dates=True, na_values=['nan'])"
   ]
  },
  {
   "cell_type": "code",
   "execution_count": 32,
   "id": "bacterial-comment",
   "metadata": {
    "scrolled": true
   },
   "outputs": [
    {
     "data": {
      "text/html": [
       "<div>\n",
       "<style scoped>\n",
       "    .dataframe tbody tr th:only-of-type {\n",
       "        vertical-align: middle;\n",
       "    }\n",
       "\n",
       "    .dataframe tbody tr th {\n",
       "        vertical-align: top;\n",
       "    }\n",
       "\n",
       "    .dataframe thead th {\n",
       "        text-align: right;\n",
       "    }\n",
       "</style>\n",
       "<table border=\"1\" class=\"dataframe\">\n",
       "  <thead>\n",
       "    <tr style=\"text-align: right;\">\n",
       "      <th></th>\n",
       "      <th>Symbol</th>\n",
       "      <th>Order</th>\n",
       "      <th>Shares</th>\n",
       "    </tr>\n",
       "    <tr>\n",
       "      <th>Date</th>\n",
       "      <th></th>\n",
       "      <th></th>\n",
       "      <th></th>\n",
       "    </tr>\n",
       "  </thead>\n",
       "  <tbody>\n",
       "    <tr>\n",
       "      <th>2011-01-10</th>\n",
       "      <td>AAPL</td>\n",
       "      <td>BUY</td>\n",
       "      <td>1500</td>\n",
       "    </tr>\n",
       "    <tr>\n",
       "      <th>2011-01-13</th>\n",
       "      <td>AAPL</td>\n",
       "      <td>SELL</td>\n",
       "      <td>1500</td>\n",
       "    </tr>\n",
       "    <tr>\n",
       "      <th>2011-01-13</th>\n",
       "      <td>IBM</td>\n",
       "      <td>BUY</td>\n",
       "      <td>4000</td>\n",
       "    </tr>\n",
       "    <tr>\n",
       "      <th>2011-01-26</th>\n",
       "      <td>GOOG</td>\n",
       "      <td>BUY</td>\n",
       "      <td>1000</td>\n",
       "    </tr>\n",
       "    <tr>\n",
       "      <th>2011-02-02</th>\n",
       "      <td>XOM</td>\n",
       "      <td>SELL</td>\n",
       "      <td>4000</td>\n",
       "    </tr>\n",
       "  </tbody>\n",
       "</table>\n",
       "</div>"
      ],
      "text/plain": [
       "           Symbol Order  Shares\n",
       "Date                           \n",
       "2011-01-10   AAPL   BUY    1500\n",
       "2011-01-13   AAPL  SELL    1500\n",
       "2011-01-13    IBM   BUY    4000\n",
       "2011-01-26   GOOG   BUY    1000\n",
       "2011-02-02    XOM  SELL    4000"
      ]
     },
     "execution_count": 32,
     "metadata": {},
     "output_type": "execute_result"
    }
   ],
   "source": [
    "# take a look at the order book after sorting by date\n",
    "orders_record.sort_index(inplace=True)\n",
    "orders_record.head()"
   ]
  },
  {
   "cell_type": "code",
   "execution_count": 33,
   "id": "classified-working",
   "metadata": {},
   "outputs": [],
   "source": [
    "def get_data(symbols, dates):\n",
    "    '''\n",
    "    Returns dataframe with adjusted closing values of the stocks specified in symbols within given time window\n",
    "\n",
    "    Parameters:\n",
    "    symbols (list): list of strings containing stock symbols\n",
    "    dates (datetimes): datetimes within a range\n",
    "\n",
    "    Returns:\n",
    "    df (dataframe): dataframe with adjusted closing values of the stocks within specified time window\n",
    "    '''\n",
    "\n",
    "    df = pd.DataFrame(index=dates)\n",
    "\n",
    "    # Add SPY to list of symbols if not already present. It is used as the benchmark.\n",
    "    if 'SPY' not in symbols:\n",
    "        symbols.insert(0, 'SPY')\n",
    "\n",
    "    for symbol in symbols:\n",
    "        df_stock = pd.read_csv('../data/{}.csv'.format(symbol), index_col='Date',\n",
    "                               usecols=['Date', 'Adj Close'], parse_dates=True)\n",
    "        df_stock.rename(columns={'Adj Close': symbol}, inplace=True)\n",
    "        df = df.join(df_stock)\n",
    "\n",
    "    df.dropna(subset=['SPY'], inplace=True)\n",
    "\n",
    "    return df"
   ]
  },
  {
   "cell_type": "code",
   "execution_count": 62,
   "id": "starting-shower",
   "metadata": {},
   "outputs": [
    {
     "data": {
      "text/plain": [
       "['AAPL', 'IBM', 'GOOG', 'XOM']"
      ]
     },
     "execution_count": 62,
     "metadata": {},
     "output_type": "execute_result"
    }
   ],
   "source": [
    "# get unique stock symbols\n",
    "symbols = list(orders_record['Symbol'].unique())\n",
    "symbols"
   ]
  },
  {
   "cell_type": "code",
   "execution_count": 63,
   "id": "charming-updating",
   "metadata": {},
   "outputs": [],
   "source": [
    "# get dates within start and end date range\n",
    "start_date = orders_record.index.min()\n",
    "end_date = orders_record.index.max()\n",
    "dates = pd.date_range(start_date, end_date)"
   ]
  },
  {
   "cell_type": "code",
   "execution_count": 64,
   "id": "golden-buying",
   "metadata": {},
   "outputs": [
    {
     "data": {
      "text/html": [
       "<div>\n",
       "<style scoped>\n",
       "    .dataframe tbody tr th:only-of-type {\n",
       "        vertical-align: middle;\n",
       "    }\n",
       "\n",
       "    .dataframe tbody tr th {\n",
       "        vertical-align: top;\n",
       "    }\n",
       "\n",
       "    .dataframe thead th {\n",
       "        text-align: right;\n",
       "    }\n",
       "</style>\n",
       "<table border=\"1\" class=\"dataframe\">\n",
       "  <thead>\n",
       "    <tr style=\"text-align: right;\">\n",
       "      <th></th>\n",
       "      <th>SPY</th>\n",
       "      <th>AAPL</th>\n",
       "      <th>IBM</th>\n",
       "      <th>GOOG</th>\n",
       "      <th>XOM</th>\n",
       "    </tr>\n",
       "  </thead>\n",
       "  <tbody>\n",
       "    <tr>\n",
       "      <th>2011-01-10</th>\n",
       "      <td>123.19</td>\n",
       "      <td>340.99</td>\n",
       "      <td>143.41</td>\n",
       "      <td>614.21</td>\n",
       "      <td>72.02</td>\n",
       "    </tr>\n",
       "    <tr>\n",
       "      <th>2011-01-11</th>\n",
       "      <td>123.63</td>\n",
       "      <td>340.18</td>\n",
       "      <td>143.06</td>\n",
       "      <td>616.01</td>\n",
       "      <td>72.56</td>\n",
       "    </tr>\n",
       "    <tr>\n",
       "      <th>2011-01-12</th>\n",
       "      <td>124.74</td>\n",
       "      <td>342.95</td>\n",
       "      <td>144.82</td>\n",
       "      <td>616.87</td>\n",
       "      <td>73.41</td>\n",
       "    </tr>\n",
       "    <tr>\n",
       "      <th>2011-01-13</th>\n",
       "      <td>124.54</td>\n",
       "      <td>344.20</td>\n",
       "      <td>144.55</td>\n",
       "      <td>616.69</td>\n",
       "      <td>73.54</td>\n",
       "    </tr>\n",
       "    <tr>\n",
       "      <th>2011-01-14</th>\n",
       "      <td>125.44</td>\n",
       "      <td>346.99</td>\n",
       "      <td>145.70</td>\n",
       "      <td>624.18</td>\n",
       "      <td>74.62</td>\n",
       "    </tr>\n",
       "  </tbody>\n",
       "</table>\n",
       "</div>"
      ],
      "text/plain": [
       "               SPY    AAPL     IBM    GOOG    XOM\n",
       "2011-01-10  123.19  340.99  143.41  614.21  72.02\n",
       "2011-01-11  123.63  340.18  143.06  616.01  72.56\n",
       "2011-01-12  124.74  342.95  144.82  616.87  73.41\n",
       "2011-01-13  124.54  344.20  144.55  616.69  73.54\n",
       "2011-01-14  125.44  346.99  145.70  624.18  74.62"
      ]
     },
     "execution_count": 64,
     "metadata": {},
     "output_type": "execute_result"
    }
   ],
   "source": [
    "# get stock price data for specified symbols on dates provided\n",
    "df = get_data(symbols, dates)\n",
    "df.head()"
   ]
  },
  {
   "cell_type": "code",
   "execution_count": 65,
   "id": "double-partnership",
   "metadata": {},
   "outputs": [],
   "source": [
    "# drop SPY column and add a new cash column with value 1\n",
    "df.drop('SPY', axis=1, inplace=True)\n",
    "df['cash'] = 1"
   ]
  },
  {
   "cell_type": "code",
   "execution_count": 69,
   "id": "broken-advice",
   "metadata": {},
   "outputs": [],
   "source": [
    "# create a trader dataframe similar to df but with all values 0\n",
    "trader = df.copy()\n",
    "trader[:] = 0.0"
   ]
  },
  {
   "cell_type": "code",
   "execution_count": 79,
   "id": "arabic-registration",
   "metadata": {},
   "outputs": [],
   "source": [
    "# compute cash flow for each order\n",
    "for order_date, row in orders_record.iterrows():\n",
    "    order_symbol = row['Symbol']\n",
    "    order_share = row['Shares']\n",
    "\n",
    "    if row['Order'] == 'SELL':\n",
    "        order_share = -1 * order_share\n",
    "    else:\n",
    "        order_share = order_share\n",
    "\n",
    "    trader.loc[order_date, order_symbol] = trader.loc[order_date,\n",
    "                                                      order_symbol] + order_share\n",
    "    share_price = df.loc[order_date, order_symbol]\n",
    "    fee = commission + abs(order_share) * share_price * impact\n",
    "    trader.loc[order_date, 'cash'] = trader.loc[order_date,\n",
    "                                                'cash'] - order_share * share_price - fee"
   ]
  },
  {
   "cell_type": "code",
   "execution_count": 84,
   "id": "controlled-eight",
   "metadata": {
    "scrolled": true
   },
   "outputs": [
    {
     "data": {
      "text/html": [
       "<div>\n",
       "<style scoped>\n",
       "    .dataframe tbody tr th:only-of-type {\n",
       "        vertical-align: middle;\n",
       "    }\n",
       "\n",
       "    .dataframe tbody tr th {\n",
       "        vertical-align: top;\n",
       "    }\n",
       "\n",
       "    .dataframe thead th {\n",
       "        text-align: right;\n",
       "    }\n",
       "</style>\n",
       "<table border=\"1\" class=\"dataframe\">\n",
       "  <thead>\n",
       "    <tr style=\"text-align: right;\">\n",
       "      <th></th>\n",
       "      <th>AAPL</th>\n",
       "      <th>IBM</th>\n",
       "      <th>GOOG</th>\n",
       "      <th>XOM</th>\n",
       "      <th>cash</th>\n",
       "    </tr>\n",
       "  </thead>\n",
       "  <tbody>\n",
       "    <tr>\n",
       "      <th>2011-01-10</th>\n",
       "      <td>1500.0</td>\n",
       "      <td>0.0</td>\n",
       "      <td>0.0</td>\n",
       "      <td>0.0</td>\n",
       "      <td>-514052.375</td>\n",
       "    </tr>\n",
       "    <tr>\n",
       "      <th>2011-01-11</th>\n",
       "      <td>0.0</td>\n",
       "      <td>0.0</td>\n",
       "      <td>0.0</td>\n",
       "      <td>0.0</td>\n",
       "      <td>0.000</td>\n",
       "    </tr>\n",
       "    <tr>\n",
       "      <th>2011-01-12</th>\n",
       "      <td>0.0</td>\n",
       "      <td>0.0</td>\n",
       "      <td>0.0</td>\n",
       "      <td>0.0</td>\n",
       "      <td>0.000</td>\n",
       "    </tr>\n",
       "    <tr>\n",
       "      <th>2011-01-13</th>\n",
       "      <td>-1500.0</td>\n",
       "      <td>4000.0</td>\n",
       "      <td>0.0</td>\n",
       "      <td>0.0</td>\n",
       "      <td>-67392.400</td>\n",
       "    </tr>\n",
       "    <tr>\n",
       "      <th>2011-01-14</th>\n",
       "      <td>0.0</td>\n",
       "      <td>0.0</td>\n",
       "      <td>0.0</td>\n",
       "      <td>0.0</td>\n",
       "      <td>0.000</td>\n",
       "    </tr>\n",
       "  </tbody>\n",
       "</table>\n",
       "</div>"
      ],
      "text/plain": [
       "              AAPL     IBM  GOOG  XOM        cash\n",
       "2011-01-10  1500.0     0.0   0.0  0.0 -514052.375\n",
       "2011-01-11     0.0     0.0   0.0  0.0       0.000\n",
       "2011-01-12     0.0     0.0   0.0  0.0       0.000\n",
       "2011-01-13 -1500.0  4000.0   0.0  0.0  -67392.400\n",
       "2011-01-14     0.0     0.0   0.0  0.0       0.000"
      ]
     },
     "execution_count": 84,
     "metadata": {},
     "output_type": "execute_result"
    }
   ],
   "source": [
    "trader.head()"
   ]
  },
  {
   "cell_type": "code",
   "execution_count": 89,
   "id": "compliant-professor",
   "metadata": {},
   "outputs": [],
   "source": [
    "# update cashflows given starting investment value\n",
    "temporary = trader.copy()\n",
    "temporary[:] = 0.0\n",
    "temporary.loc[start_date, 'cash'] = start_val\n",
    "temporary.iloc[0, :] = temporary.iloc[0, :] + trader.iloc[0, :]\n",
    "\n",
    "for i in range(1, len(temporary)):\n",
    "    temporary.iloc[i, :] = temporary.iloc[i, :] + \\\n",
    "        (temporary.iloc[i-1, :] + trader.iloc[i, :])"
   ]
  },
  {
   "cell_type": "code",
   "execution_count": 93,
   "id": "rough-tunnel",
   "metadata": {},
   "outputs": [
    {
     "data": {
      "text/html": [
       "<div>\n",
       "<style scoped>\n",
       "    .dataframe tbody tr th:only-of-type {\n",
       "        vertical-align: middle;\n",
       "    }\n",
       "\n",
       "    .dataframe tbody tr th {\n",
       "        vertical-align: top;\n",
       "    }\n",
       "\n",
       "    .dataframe thead th {\n",
       "        text-align: right;\n",
       "    }\n",
       "</style>\n",
       "<table border=\"1\" class=\"dataframe\">\n",
       "  <thead>\n",
       "    <tr style=\"text-align: right;\">\n",
       "      <th></th>\n",
       "      <th>AAPL</th>\n",
       "      <th>IBM</th>\n",
       "      <th>GOOG</th>\n",
       "      <th>XOM</th>\n",
       "      <th>cash</th>\n",
       "    </tr>\n",
       "  </thead>\n",
       "  <tbody>\n",
       "    <tr>\n",
       "      <th>2011-01-10</th>\n",
       "      <td>1500.0</td>\n",
       "      <td>0.0</td>\n",
       "      <td>0.0</td>\n",
       "      <td>0.0</td>\n",
       "      <td>485947.625</td>\n",
       "    </tr>\n",
       "    <tr>\n",
       "      <th>2011-01-11</th>\n",
       "      <td>1500.0</td>\n",
       "      <td>0.0</td>\n",
       "      <td>0.0</td>\n",
       "      <td>0.0</td>\n",
       "      <td>485947.625</td>\n",
       "    </tr>\n",
       "    <tr>\n",
       "      <th>2011-01-12</th>\n",
       "      <td>1500.0</td>\n",
       "      <td>0.0</td>\n",
       "      <td>0.0</td>\n",
       "      <td>0.0</td>\n",
       "      <td>485947.625</td>\n",
       "    </tr>\n",
       "    <tr>\n",
       "      <th>2011-01-13</th>\n",
       "      <td>0.0</td>\n",
       "      <td>4000.0</td>\n",
       "      <td>0.0</td>\n",
       "      <td>0.0</td>\n",
       "      <td>418555.225</td>\n",
       "    </tr>\n",
       "    <tr>\n",
       "      <th>2011-01-14</th>\n",
       "      <td>0.0</td>\n",
       "      <td>4000.0</td>\n",
       "      <td>0.0</td>\n",
       "      <td>0.0</td>\n",
       "      <td>418555.225</td>\n",
       "    </tr>\n",
       "  </tbody>\n",
       "</table>\n",
       "</div>"
      ],
      "text/plain": [
       "              AAPL     IBM  GOOG  XOM        cash\n",
       "2011-01-10  1500.0     0.0   0.0  0.0  485947.625\n",
       "2011-01-11  1500.0     0.0   0.0  0.0  485947.625\n",
       "2011-01-12  1500.0     0.0   0.0  0.0  485947.625\n",
       "2011-01-13     0.0  4000.0   0.0  0.0  418555.225\n",
       "2011-01-14     0.0  4000.0   0.0  0.0  418555.225"
      ]
     },
     "execution_count": 93,
     "metadata": {},
     "output_type": "execute_result"
    }
   ],
   "source": [
    "temporary.head()"
   ]
  },
  {
   "cell_type": "code",
   "execution_count": 97,
   "id": "modified-wisdom",
   "metadata": {},
   "outputs": [
    {
     "data": {
      "text/html": [
       "<div>\n",
       "<style scoped>\n",
       "    .dataframe tbody tr th:only-of-type {\n",
       "        vertical-align: middle;\n",
       "    }\n",
       "\n",
       "    .dataframe tbody tr th {\n",
       "        vertical-align: top;\n",
       "    }\n",
       "\n",
       "    .dataframe thead th {\n",
       "        text-align: right;\n",
       "    }\n",
       "</style>\n",
       "<table border=\"1\" class=\"dataframe\">\n",
       "  <thead>\n",
       "    <tr style=\"text-align: right;\">\n",
       "      <th></th>\n",
       "      <th>AAPL</th>\n",
       "      <th>IBM</th>\n",
       "      <th>GOOG</th>\n",
       "      <th>XOM</th>\n",
       "      <th>cash</th>\n",
       "    </tr>\n",
       "  </thead>\n",
       "  <tbody>\n",
       "    <tr>\n",
       "      <th>2011-01-10</th>\n",
       "      <td>511485.0</td>\n",
       "      <td>0.0</td>\n",
       "      <td>0.0</td>\n",
       "      <td>0.0</td>\n",
       "      <td>485947.625</td>\n",
       "    </tr>\n",
       "    <tr>\n",
       "      <th>2011-01-11</th>\n",
       "      <td>510270.0</td>\n",
       "      <td>0.0</td>\n",
       "      <td>0.0</td>\n",
       "      <td>0.0</td>\n",
       "      <td>485947.625</td>\n",
       "    </tr>\n",
       "    <tr>\n",
       "      <th>2011-01-12</th>\n",
       "      <td>514425.0</td>\n",
       "      <td>0.0</td>\n",
       "      <td>0.0</td>\n",
       "      <td>0.0</td>\n",
       "      <td>485947.625</td>\n",
       "    </tr>\n",
       "    <tr>\n",
       "      <th>2011-01-13</th>\n",
       "      <td>0.0</td>\n",
       "      <td>578200.0</td>\n",
       "      <td>0.0</td>\n",
       "      <td>0.0</td>\n",
       "      <td>418555.225</td>\n",
       "    </tr>\n",
       "    <tr>\n",
       "      <th>2011-01-14</th>\n",
       "      <td>0.0</td>\n",
       "      <td>582800.0</td>\n",
       "      <td>0.0</td>\n",
       "      <td>0.0</td>\n",
       "      <td>418555.225</td>\n",
       "    </tr>\n",
       "  </tbody>\n",
       "</table>\n",
       "</div>"
      ],
      "text/plain": [
       "                AAPL       IBM  GOOG  XOM        cash\n",
       "2011-01-10  511485.0       0.0   0.0  0.0  485947.625\n",
       "2011-01-11  510270.0       0.0   0.0  0.0  485947.625\n",
       "2011-01-12  514425.0       0.0   0.0  0.0  485947.625\n",
       "2011-01-13       0.0  578200.0   0.0  0.0  418555.225\n",
       "2011-01-14       0.0  582800.0   0.0  0.0  418555.225"
      ]
     },
     "execution_count": 97,
     "metadata": {},
     "output_type": "execute_result"
    }
   ],
   "source": [
    "# evaluate porfolio amount and cash for each day\n",
    "stock_value = pd.DataFrame(\n",
    "    temporary.values * df.values, index=df.index, columns=df.columns)\n",
    "stock_value.head()"
   ]
  },
  {
   "cell_type": "code",
   "execution_count": 100,
   "id": "interpreted-convenience",
   "metadata": {},
   "outputs": [
    {
     "data": {
      "text/plain": [
       "2011-12-21    1.108879e+06\n",
       "2011-12-22    1.101617e+06\n",
       "2011-12-23    1.100040e+06\n",
       "2011-12-27    1.077827e+06\n",
       "2011-12-28    1.073672e+06\n",
       "dtype: float64"
      ]
     },
     "execution_count": 100,
     "metadata": {},
     "output_type": "execute_result"
    }
   ],
   "source": [
    "# net portfolio value each day (sum of stock values and cash)\n",
    "portvals = stock_value.sum(axis=1)\n",
    "portvals.tail()"
   ]
  }
 ],
 "metadata": {
  "kernelspec": {
   "display_name": "Python 3",
   "language": "python",
   "name": "python3"
  },
  "language_info": {
   "codemirror_mode": {
    "name": "ipython",
    "version": 3
   },
   "file_extension": ".py",
   "mimetype": "text/x-python",
   "name": "python",
   "nbconvert_exporter": "python",
   "pygments_lexer": "ipython3",
   "version": "3.7.9"
  }
 },
 "nbformat": 4,
 "nbformat_minor": 5
}
